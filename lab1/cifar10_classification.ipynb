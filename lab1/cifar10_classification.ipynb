{
 "cells": [
  {
   "cell_type": "markdown",
   "id": "2a61f9dc-1e16-4ddf-bb48-e9696835e068",
   "metadata": {},
   "source": [
    "# CIFAR-10 classification"
   ]
  },
  {
   "cell_type": "markdown",
   "id": "059220b3",
   "metadata": {
    "id": "059220b3",
    "papermill": {
     "duration": 0.029846,
     "end_time": "2022-04-28T08:16:20.199491",
     "exception": false,
     "start_time": "2022-04-28T08:16:20.169645",
     "status": "completed"
    },
    "tags": []
   },
   "source": [
    "## Setup"
   ]
  },
  {
   "cell_type": "code",
   "execution_count": 1,
   "id": "d33b4775-cdfc-4571-80a1-1439a8592c7f",
   "metadata": {
    "id": "42a86c03",
    "lines_to_next_cell": 0,
    "outputId": "46a74fa1-ae02-4ab7-b80c-94ec854ed075",
    "papermill": {
     "duration": 3.285737,
     "end_time": "2022-04-28T08:16:23.514639",
     "exception": false,
     "start_time": "2022-04-28T08:16:20.228902",
     "status": "completed"
    },
    "tags": []
   },
   "outputs": [],
   "source": [
    "# !pip install -r requirements.txt"
   ]
  },
  {
   "cell_type": "code",
   "execution_count": 2,
   "id": "2d929a56-ab78-481c-ad93-1bf5ba136824",
   "metadata": {
    "tags": []
   },
   "outputs": [],
   "source": [
    "%load_ext autoreload\n",
    "%autoreload 2"
   ]
  },
  {
   "cell_type": "code",
   "execution_count": 3,
   "id": "de76b3ab",
   "metadata": {
    "id": "de76b3ab",
    "outputId": "324f282f-017a-4f83-8f1e-731dd19d9601",
    "papermill": {
     "duration": 2.333018,
     "end_time": "2022-04-28T08:16:25.950458",
     "exception": false,
     "start_time": "2022-04-28T08:16:23.617440",
     "status": "completed"
    },
    "tags": []
   },
   "outputs": [],
   "source": [
    "import os\n",
    "import math\n",
    "\n",
    "import hydra\n",
    "import torch\n",
    "import torchvision\n",
    "import wandb\n",
    "\n",
    "import pandas as pd\n",
    "import seaborn as sn\n",
    "import torch.nn as nn\n",
    "import torch.nn.functional as F\n",
    "import torchvision.transforms as transforms\n",
    "\n",
    "from dataclasses import dataclass\n",
    "from omegaconf import DictConfig, OmegaConf\n",
    "from pytorch_lightning import LightningModule, Trainer, seed_everything\n",
    "from pytorch_lightning.callbacks import LearningRateMonitor, ModelCheckpoint\n",
    "from pytorch_lightning.callbacks.progress import TQDMProgressBar\n",
    "from pytorch_lightning.loggers import CSVLogger, WandbLogger\n",
    "from pytorch_lightning.utilities.model_summary import ModelSummary\n",
    "\n",
    "from torch.utils.data import random_split\n",
    "from torch.optim.lr_scheduler import OneCycleLR, _LRScheduler, ExponentialLR, MultiStepLR, StepLR\n",
    "from torch.optim.swa_utils import AveragedModel, update_bn\n",
    "from torchmetrics.functional import accuracy"
   ]
  },
  {
   "cell_type": "code",
   "execution_count": 4,
   "id": "ee550f3c-2cc0-4eac-96e0-e727291debe2",
   "metadata": {
    "tags": []
   },
   "outputs": [
    {
     "name": "stderr",
     "output_type": "stream",
     "text": [
      "Global seed set to 69\n"
     ]
    }
   ],
   "source": [
    "# Constants\n",
    "@dataclass\n",
    "class Config:\n",
    "    seed: int = 69\n",
    "    batch_size: int = 256 if torch.cuda.is_available() else 64\n",
    "    n_workers: int = 8\n",
    "    \n",
    "    n_epochs = 30\n",
    "    val_size = 5000\n",
    "    \n",
    "config = Config\n",
    "seed_everything(config.seed)\n",
    "torch.set_float32_matmul_precision('medium')"
   ]
  },
  {
   "cell_type": "markdown",
   "id": "34f13886",
   "metadata": {
    "id": "34f13886",
    "papermill": {
     "duration": 0.066591,
     "end_time": "2022-04-28T08:16:26.050000",
     "exception": false,
     "start_time": "2022-04-28T08:16:25.983409",
     "status": "completed"
    },
    "tags": []
   },
   "source": [
    "## Data preparation"
   ]
  },
  {
   "cell_type": "code",
   "execution_count": 5,
   "id": "e02daf6f-a0e3-4eb8-926b-cafee71f67d1",
   "metadata": {
    "tags": []
   },
   "outputs": [],
   "source": [
    "class DatasetFromSubset(torch.utils.data.Dataset):\n",
    "    def __init__(self, subset, transform=None):\n",
    "        self.subset = subset\n",
    "        self.transform = transform\n",
    "\n",
    "    def __getitem__(self, index):\n",
    "        x, y = self.subset[index]\n",
    "        if self.transform:\n",
    "            x = self.transform(x)\n",
    "        return x, y\n",
    "\n",
    "    def __len__(self):\n",
    "        return len(self.subset)\n",
    "    \n",
    "classes = ('plane', 'car', 'bird', 'cat', 'deer',\n",
    "           'dog', 'frog', 'horse', 'ship', 'truck')"
   ]
  },
  {
   "cell_type": "code",
   "execution_count": 6,
   "id": "8ea97a58-167f-4573-86df-ef9646633525",
   "metadata": {
    "tags": []
   },
   "outputs": [
    {
     "name": "stdout",
     "output_type": "stream",
     "text": [
      "Files already downloaded and verified\n",
      "(50000, 32, 32, 3)\n",
      "[0.49139968 0.48215841 0.44653091]\n",
      "[0.24703223 0.24348513 0.26158784]\n"
     ]
    }
   ],
   "source": [
    "# full train dataset. Will be splitted for train/val\n",
    "dataset = torchvision.datasets.CIFAR10(root='./data', train=True, download=True, transform=None)\n",
    "\n",
    "# Normalization constants\n",
    "mean_values = dataset.data.mean(axis=(0,1,2)) / 255\n",
    "std_values = dataset.data.std(axis=(0,1,2)) / 255\n",
    "\n",
    "print(dataset.data.shape)\n",
    "print(mean_values)\n",
    "print(std_values)"
   ]
  },
  {
   "cell_type": "code",
   "execution_count": 7,
   "id": "24a382fe-9ac8-4d86-9b76-5f571b9901a4",
   "metadata": {
    "tags": []
   },
   "outputs": [],
   "source": [
    "## Transforms\n",
    "\n",
    "train_transform = transforms.Compose(\n",
    "    [\n",
    "     transforms.ToTensor(),\n",
    "     torchvision.transforms.RandomCrop(32, padding=4),\n",
    "     torchvision.transforms.RandomHorizontalFlip(),\n",
    "     transforms.Normalize(mean_values, std_values),\n",
    "    ]\n",
    ")\n",
    "\n",
    "val_transform = transforms.Compose(\n",
    "    [\n",
    "     transforms.ToTensor(),\n",
    "     transforms.Normalize(mean_values, std_values),\n",
    "    ]\n",
    ")\n",
    "\n",
    "test_transform = transforms.Compose(\n",
    "    [\n",
    "     transforms.ToTensor(),\n",
    "     transforms.Normalize(mean_values, std_values),\n",
    "    ]\n",
    "    \n",
    ")"
   ]
  },
  {
   "cell_type": "code",
   "execution_count": 8,
   "id": "8f868233-f96d-4348-ad82-6a5056f08183",
   "metadata": {
    "tags": []
   },
   "outputs": [
    {
     "name": "stdout",
     "output_type": "stream",
     "text": [
      "Files already downloaded and verified\n"
     ]
    }
   ],
   "source": [
    "## Datasets\n",
    "\n",
    "trainset, valset = random_split(dataset, [len(dataset) - config.val_size, config.val_size])\n",
    "\n",
    "trainset = DatasetFromSubset(trainset, transform=train_transform)\n",
    "\n",
    "valset = DatasetFromSubset(valset, transform=val_transform)\n",
    "\n",
    "testset = torchvision.datasets.CIFAR10(root='./data', train=False, download=True, transform=test_transform)"
   ]
  },
  {
   "cell_type": "code",
   "execution_count": 15,
   "id": "3f02b4fa-d3a5-436b-8cf8-8accb342ce63",
   "metadata": {
    "tags": []
   },
   "outputs": [
    {
     "data": {
      "text/plain": [
       "(45000, 5000, 10000)"
      ]
     },
     "execution_count": 15,
     "metadata": {},
     "output_type": "execute_result"
    }
   ],
   "source": [
    "len(trainset), len(valset), len(testset)"
   ]
  },
  {
   "cell_type": "code",
   "execution_count": 9,
   "id": "b0b4cb02-70e2-489a-9148-63ee7ba65393",
   "metadata": {
    "tags": []
   },
   "outputs": [],
   "source": [
    "## DataLoaders\n",
    "\n",
    "trainloader = torch.utils.data.DataLoader(trainset, batch_size=config.batch_size, pin_memory=True,\n",
    "                                          shuffle=True, num_workers=config.n_workers)\n",
    "\n",
    "valloader = torch.utils.data.DataLoader(valset, batch_size=config.batch_size, pin_memory=True,\n",
    "                                        shuffle=False, num_workers=config.n_workers)\n",
    "\n",
    "testloader = torch.utils.data.DataLoader(testset, batch_size=config.batch_size, pin_memory=True,\n",
    "                                         shuffle=False, num_workers=config.n_workers)"
   ]
  },
  {
   "cell_type": "markdown",
   "id": "3ebc0eaa",
   "metadata": {
    "id": "3ebc0eaa",
    "lines_to_next_cell": 2,
    "papermill": {
     "duration": 0.035124,
     "end_time": "2022-04-28T08:16:26.195622",
     "exception": false,
     "start_time": "2022-04-28T08:16:26.160498",
     "status": "completed"
    },
    "tags": []
   },
   "source": [
    "## Modelling"
   ]
  },
  {
   "cell_type": "code",
   "execution_count": 10,
   "id": "3afc181a-1c99-4518-8362-8ad1afc59382",
   "metadata": {
    "tags": []
   },
   "outputs": [],
   "source": [
    "def create_model():\n",
    "    # Resnet model\n",
    "    model = torchvision.models.resnet18(num_classes=10, pretrained=False)\n",
    "    model.conv1 = nn.Conv2d(3, 64, kernel_size=(3, 3), stride=(1, 1), padding=(1, 1), bias=False)\n",
    "    model.maxpool = nn.Identity()\n",
    "    \n",
    "    # # FC model\n",
    "    # class Net(nn.Module):\n",
    "        # def __init__(self):\n",
    "        #     super().__init__()\n",
    "        #     self.fc1 = nn.Linear(3*32*32, 32*16)\n",
    "        #     self.fc2 = nn.Linear(32*16, 32*4)\n",
    "        #     self.fc3 = nn.Linear(32*4, 10)\n",
    "            \n",
    "        # def forward(self, x):\n",
    "        #     x = torch.flatten(x, start_dim=1)\n",
    "        #     x = F.relu(self.fc1(x))\n",
    "        #     x = F.relu(self.fc2(x))\n",
    "        #     x = self.fc3(x)\n",
    "        #     return x\n",
    "\n",
    "    # Conv model\n",
    "    # class Net(nn.Module):\n",
    "        # def __init__(self):\n",
    "        #     super().__init__()\n",
    "        #     self.conv1 = nn.Conv2d(3, 6, 5, bias=False)\n",
    "        #     self.bn1 = nn.BatchNorm2d(6)\n",
    "        #     self.pool = nn.MaxPool2d(2, 2)\n",
    "        #     self.conv2 = nn.Conv2d(6, 16, 5, bias=False)\n",
    "        #     self.bn2 = nn.BatchNorm2d(16)\n",
    "        #     self.fc1 = nn.Linear(16 * 5 * 5, 120)\n",
    "        #     self.dropout1 = torch.nn.Dropout(p=0.2, inplace=False)\n",
    "        #     self.fc2 = nn.Linear(120, 84)\n",
    "        #     self.dropout2 = torch.nn.Dropout(p=0.2, inplace=False)\n",
    "        #     self.fc3 = nn.Linear(84, 10)\n",
    "\n",
    "        # def forward(self, x):\n",
    "        #     # x = self.pool(F.sigmoid(self.conv1(x)))\n",
    "        #     # x = self.pool(F.sigmoid(self.conv2(x)))  \n",
    "        #     x = self.pool(self.dropout1(F.relu(self.bn1(self.conv1(x)))))\n",
    "        #     x = self.pool(self.dropout2(F.relu(self.bn2(self.conv2(x))))) \n",
    "        #     x = torch.flatten(x, 1)\n",
    "        #     x = F.relu(self.fc1(x))\n",
    "        #     x = F.relu(self.fc2(x))\n",
    "        #     x = self.fc3(x)\n",
    "        #     return x\n",
    "    \n",
    "    # model = Net()\n",
    "    \n",
    "    # # zero initialization\n",
    "    # for m in model.modules():\n",
    "    #     if isinstance(m, torch.nn.Linear):\n",
    "    #         m.weight = torch.nn.init.zeros_(m.weight)\n",
    "    #         m.bias = torch.nn.init.zeros_(m.bias)\n",
    "\n",
    "    return model"
   ]
  },
  {
   "cell_type": "markdown",
   "id": "b1a35008",
   "metadata": {
    "id": "b1a35008",
    "lines_to_next_cell": 2,
    "papermill": {
     "duration": 0.036155,
     "end_time": "2022-04-28T08:16:26.337499",
     "exception": false,
     "start_time": "2022-04-28T08:16:26.301344",
     "status": "completed"
    },
    "tags": []
   },
   "source": [
    "### Lightning Module"
   ]
  },
  {
   "cell_type": "code",
   "execution_count": 11,
   "id": "18099ba9-02a4-451d-b2c7-30041866e6a8",
   "metadata": {
    "tags": []
   },
   "outputs": [],
   "source": [
    "class LitModule(LightningModule):\n",
    "    def __init__(self, config):\n",
    "        super().__init__()\n",
    "        \n",
    "        self.config = config\n",
    "        self.save_hyperparameters()\n",
    "        self.model = create_model()\n",
    "        self.example_input_array = torch.zeros(2, 3, 32, 32)\n",
    "\n",
    "    def forward(self, x):\n",
    "        out = self.model(x)\n",
    "        return F.log_softmax(out, dim=1)\n",
    "\n",
    "    def training_step(self, batch, batch_idx):\n",
    "        x, y = batch\n",
    "        logits = self(x)\n",
    "        loss = F.nll_loss(logits, y)\n",
    "        self.log(\"train_loss\", loss)\n",
    "        return loss\n",
    "\n",
    "    def evaluate(self, batch, stage=None):\n",
    "        x, y = batch\n",
    "        logits = self(x)\n",
    "        loss = F.nll_loss(logits, y)\n",
    "        preds = torch.argmax(logits, dim=1)\n",
    "        acc = accuracy(preds, y, task='multiclass', num_classes=10)\n",
    "        \n",
    "        if stage:\n",
    "            self.log(f\"{stage}_loss\", loss, prog_bar=True)\n",
    "            self.log(f\"{stage}_acc\", acc, prog_bar=True)\n",
    "\n",
    "    def validation_step(self, batch, batch_idx):\n",
    "        self.evaluate(batch, \"val\")\n",
    "\n",
    "    def test_step(self, batch, batch_idx):\n",
    "        self.evaluate(batch, \"test\")\n",
    "\n",
    "    def configure_optimizers(self):\n",
    "        # optimizer = torch.optim.SGD(\n",
    "        #     self.parameters(),\n",
    "        #     lr=1e-3,\n",
    "        #     momentum=0.9,\n",
    "        #     weight_decay=5e-4,\n",
    "        # )\n",
    "        \n",
    "        optimizer = torch.optim.Adam(\n",
    "            self.parameters(),\n",
    "            lr = 1e-3,\n",
    "            weight_decay=5e-4,\n",
    "        )\n",
    "        \n",
    "        steps_per_epoch = 45000 // config.batch_size + 1\n",
    "        scheduler_dict = {\n",
    "            \"scheduler\": OneCycleLR(\n",
    "                optimizer,\n",
    "                0.01,\n",
    "                div_factor = 25,\n",
    "                final_div_factor = 5e4,\n",
    "                pct_start=0.2,\n",
    "                epochs=self.trainer.max_epochs,\n",
    "                steps_per_epoch=steps_per_epoch,\n",
    "            ),\n",
    "            \"interval\": \"step\",\n",
    "            \"name\": \"lr\",\n",
    "        }\n",
    "        \n",
    "        \n",
    "        # scheduler_dict = {\n",
    "        #     \"scheduler\": StepLR(\n",
    "        #         optimizer,\n",
    "        #         step_size=5,\n",
    "        #         gamma=0.5),\n",
    "        #     \"interval\": \"epoch\",\n",
    "        #     \"name\": \"lr\",\n",
    "        # }        \n",
    "        \n",
    "        return {\"optimizer\": optimizer, \"lr_scheduler\": scheduler_dict}"
   ]
  },
  {
   "cell_type": "code",
   "execution_count": 12,
   "id": "b19fe41d-3ef8-4e55-b95f-a38f118e4cfb",
   "metadata": {
    "tags": []
   },
   "outputs": [
    {
     "name": "stderr",
     "output_type": "stream",
     "text": [
      "\u001b[34m\u001b[1mwandb\u001b[0m: Currently logged in as: \u001b[33mwhatislove\u001b[0m. Use \u001b[1m`wandb login --relogin`\u001b[0m to force relogin\n"
     ]
    },
    {
     "data": {
      "application/vnd.jupyter.widget-view+json": {
       "model_id": "9b5f538871824b71ba70a6f3d98319ea",
       "version_major": 2,
       "version_minor": 0
      },
      "text/plain": [
       "VBox(children=(Label(value='Waiting for wandb.init()...\\r'), FloatProgress(value=0.016668401450018185, max=1.0…"
      ]
     },
     "metadata": {},
     "output_type": "display_data"
    },
    {
     "data": {
      "text/html": [
       "wandb version 0.14.2 is available!  To upgrade, please run:\n",
       " $ pip install wandb --upgrade"
      ],
      "text/plain": [
       "<IPython.core.display.HTML object>"
      ]
     },
     "metadata": {},
     "output_type": "display_data"
    },
    {
     "data": {
      "text/html": [
       "Tracking run with wandb version 0.14.0"
      ],
      "text/plain": [
       "<IPython.core.display.HTML object>"
      ]
     },
     "metadata": {},
     "output_type": "display_data"
    },
    {
     "data": {
      "text/html": [
       "Run data is saved locally in <code>/home/vladislav/ml/NSU/dl_fit/cifar/wandb/run-20230413_233148-c42p2ieo</code>"
      ],
      "text/plain": [
       "<IPython.core.display.HTML object>"
      ]
     },
     "metadata": {},
     "output_type": "display_data"
    },
    {
     "data": {
      "text/html": [
       "Syncing run <strong><a href='https://wandb.ai/whatislove/img_classification_cifar10/runs/c42p2ieo' target=\"_blank\">resnet18_cyclelr</a></strong> to <a href='https://wandb.ai/whatislove/img_classification_cifar10' target=\"_blank\">Weights & Biases</a> (<a href='https://wandb.me/run' target=\"_blank\">docs</a>)<br/>"
      ],
      "text/plain": [
       "<IPython.core.display.HTML object>"
      ]
     },
     "metadata": {},
     "output_type": "display_data"
    },
    {
     "data": {
      "text/html": [
       " View project at <a href='https://wandb.ai/whatislove/img_classification_cifar10' target=\"_blank\">https://wandb.ai/whatislove/img_classification_cifar10</a>"
      ],
      "text/plain": [
       "<IPython.core.display.HTML object>"
      ]
     },
     "metadata": {},
     "output_type": "display_data"
    },
    {
     "data": {
      "text/html": [
       " View run at <a href='https://wandb.ai/whatislove/img_classification_cifar10/runs/c42p2ieo' target=\"_blank\">https://wandb.ai/whatislove/img_classification_cifar10/runs/c42p2ieo</a>"
      ],
      "text/plain": [
       "<IPython.core.display.HTML object>"
      ]
     },
     "metadata": {},
     "output_type": "display_data"
    },
    {
     "data": {
      "text/html": [
       "<button onClick=\"this.nextSibling.style.display='block';this.style.display='none';\">Display W&B run</button><iframe src='https://wandb.ai/whatislove/img_classification_cifar10/runs/c42p2ieo?jupyter=true' style='border:none;width:100%;height:420px;display:none;'></iframe>"
      ],
      "text/plain": [
       "<wandb.sdk.wandb_run.Run at 0x7f077671efe0>"
      ]
     },
     "execution_count": 12,
     "metadata": {},
     "output_type": "execute_result"
    }
   ],
   "source": [
    "wandb.login()\n",
    "wandb.init(\n",
    "    project=\"img_classification_cifar10\",\n",
    "    name=\"resnet18_cyclelr\",\n",
    ")"
   ]
  },
  {
   "cell_type": "code",
   "execution_count": 13,
   "id": "ef51915f-f66b-45fc-8ee8-de017ed62bf8",
   "metadata": {
    "tags": []
   },
   "outputs": [
    {
     "name": "stderr",
     "output_type": "stream",
     "text": [
      "/home/vladislav/anaconda3/envs/light/lib/python3.10/site-packages/torchvision/models/_utils.py:208: UserWarning: The parameter 'pretrained' is deprecated since 0.13 and may be removed in the future, please use 'weights' instead.\n",
      "  warnings.warn(\n",
      "/home/vladislav/anaconda3/envs/light/lib/python3.10/site-packages/torchvision/models/_utils.py:223: UserWarning: Arguments other than a weight enum or `None` for 'weights' are deprecated since 0.13 and may be removed in the future. The current behavior is equivalent to passing `weights=None`.\n",
      "  warnings.warn(msg)\n"
     ]
    }
   ],
   "source": [
    "model = LitModule(config)\n",
    "\n",
    "# ModelSummary(model, -1)"
   ]
  },
  {
   "cell_type": "code",
   "execution_count": 14,
   "id": "75af1ce6",
   "metadata": {
    "colab": {
     "referenced_widgets": [
      "601f7f2f19734f35b81d452928e7b664",
      "bddb7b6f7d3045b58c684d286860aca2",
      "aee2f55863634bd489ee6a93f590ab1d",
      "fc801be703164975836710a9088a3e2e",
      "2fd0ebdad1cb4cdd8078e88d634a8e94",
      "a74ca8b4deb04d9fa396875fb178433f",
      "38c3342045184d4bb2364468d1aaa8eb",
      "cf2e45e1013b4e0b9a88557a51b7df9d",
      "d9c5f5b858d2414886fe8426f02ba8bf",
      "a4383d04e64545ab994007aaef8f99cc",
      "7587f9e118824d388e41e61f266a865b",
      "7f1d10ebba4749249a34a89e2f0db2e1",
      "75fa976468574d6289b4db59e25239fe",
      "8a851d74606748a0af0eb68ee3b59252",
      "f24c21c7d7fd47d19181ce0e78cc80eb",
      "9b6873f47aa64d71a179b18e3bdd0f9b",
      "db547c77de714f0d9d8aed6238b16a52",
      "635874e03bb34832aad130a3a09dace2",
      "4eaff499e6d743c198a966b529808cf7",
      "fbde9c369f2d48c7a7d3f24c4dc302df",
      "54ca5f6ad2124679a5883a24e27fa925",
      "1257b66b89514d01bfe2be14c3f4cf4a",
      "97871fe8a2794f938e11a7a789653b8c",
      "7741b5d8cde34dc7b36c1d6cd0f771e2",
      "65f5e09b1c1a4bd2bdf265e126fe4308",
      "8fc44743902b44b8bf643cfa2d3d5567",
      "37c2f9e8f4544cb189ad9debf84344e8",
      "c872d37d34dc4e00b72a782170d7a88e",
      "0ae3d35d13ed4f25bd0b09e7154c92df",
      "630e1930b9f14b5794ccecac534541a1",
      "b6e410ec2ba14f8f86a3904e4cca9c5a",
      "53849ee2ab8f41d0814af75ee735556a",
      "42fc6f7641ea45f89ac3a52f7e0f8730",
      "8d2311d8b74f4f6f9fd32346ad7d4a42"
     ]
    },
    "id": "75af1ce6",
    "outputId": "60f07212-bab2-4136-a8e9-cca8083b3469",
    "papermill": {
     "duration": 329.445947,
     "end_time": "2022-04-28T08:21:55.896421",
     "exception": false,
     "start_time": "2022-04-28T08:16:26.450474",
     "status": "completed"
    },
    "tags": []
   },
   "outputs": [
    {
     "name": "stderr",
     "output_type": "stream",
     "text": [
      "/home/vladislav/anaconda3/envs/light/lib/python3.10/site-packages/pytorch_lightning/loggers/wandb.py:395: UserWarning: There is a wandb run already in progress and newly created instances of `WandbLogger` will reuse this run. If this is not desired, call `wandb.finish()` before instantiating `WandbLogger`.\n",
      "  rank_zero_warn(\n",
      "GPU available: True (cuda), used: True\n",
      "TPU available: False, using: 0 TPU cores\n",
      "IPU available: False, using: 0 IPUs\n",
      "HPU available: False, using: 0 HPUs\n",
      "/home/vladislav/anaconda3/envs/light/lib/python3.10/site-packages/pytorch_lightning/callbacks/model_checkpoint.py:613: UserWarning: Checkpoint directory /home/vladislav/ml/NSU/dl_fit/cifar/checkpoints/resnet18_cyclelr exists and is not empty.\n",
      "  rank_zero_warn(f\"Checkpoint directory {dirpath} exists and is not empty.\")\n",
      "LOCAL_RANK: 0 - CUDA_VISIBLE_DEVICES: [0]\n",
      "\n",
      "  | Name  | Type   | Params | In sizes       | Out sizes\n",
      "--------------------------------------------------------------\n",
      "0 | model | ResNet | 11.2 M | [2, 3, 32, 32] | [2, 10]  \n",
      "--------------------------------------------------------------\n",
      "11.2 M    Trainable params\n",
      "0         Non-trainable params\n",
      "11.2 M    Total params\n",
      "44.696    Total estimated model params size (MB)\n"
     ]
    },
    {
     "data": {
      "application/vnd.jupyter.widget-view+json": {
       "model_id": "",
       "version_major": 2,
       "version_minor": 0
      },
      "text/plain": [
       "Sanity Checking: 0it [00:00, ?it/s]"
      ]
     },
     "metadata": {},
     "output_type": "display_data"
    },
    {
     "data": {
      "application/vnd.jupyter.widget-view+json": {
       "model_id": "2c23debfaafb48eaa37a42d2a7acdcd1",
       "version_major": 2,
       "version_minor": 0
      },
      "text/plain": [
       "Training: 0it [00:00, ?it/s]"
      ]
     },
     "metadata": {},
     "output_type": "display_data"
    },
    {
     "data": {
      "application/vnd.jupyter.widget-view+json": {
       "model_id": "",
       "version_major": 2,
       "version_minor": 0
      },
      "text/plain": [
       "Validation: 0it [00:00, ?it/s]"
      ]
     },
     "metadata": {},
     "output_type": "display_data"
    },
    {
     "data": {
      "application/vnd.jupyter.widget-view+json": {
       "model_id": "",
       "version_major": 2,
       "version_minor": 0
      },
      "text/plain": [
       "Validation: 0it [00:00, ?it/s]"
      ]
     },
     "metadata": {},
     "output_type": "display_data"
    },
    {
     "data": {
      "application/vnd.jupyter.widget-view+json": {
       "model_id": "",
       "version_major": 2,
       "version_minor": 0
      },
      "text/plain": [
       "Validation: 0it [00:00, ?it/s]"
      ]
     },
     "metadata": {},
     "output_type": "display_data"
    },
    {
     "data": {
      "application/vnd.jupyter.widget-view+json": {
       "model_id": "",
       "version_major": 2,
       "version_minor": 0
      },
      "text/plain": [
       "Validation: 0it [00:00, ?it/s]"
      ]
     },
     "metadata": {},
     "output_type": "display_data"
    },
    {
     "data": {
      "application/vnd.jupyter.widget-view+json": {
       "model_id": "",
       "version_major": 2,
       "version_minor": 0
      },
      "text/plain": [
       "Validation: 0it [00:00, ?it/s]"
      ]
     },
     "metadata": {},
     "output_type": "display_data"
    },
    {
     "data": {
      "application/vnd.jupyter.widget-view+json": {
       "model_id": "",
       "version_major": 2,
       "version_minor": 0
      },
      "text/plain": [
       "Validation: 0it [00:00, ?it/s]"
      ]
     },
     "metadata": {},
     "output_type": "display_data"
    },
    {
     "data": {
      "application/vnd.jupyter.widget-view+json": {
       "model_id": "",
       "version_major": 2,
       "version_minor": 0
      },
      "text/plain": [
       "Validation: 0it [00:00, ?it/s]"
      ]
     },
     "metadata": {},
     "output_type": "display_data"
    },
    {
     "data": {
      "application/vnd.jupyter.widget-view+json": {
       "model_id": "",
       "version_major": 2,
       "version_minor": 0
      },
      "text/plain": [
       "Validation: 0it [00:00, ?it/s]"
      ]
     },
     "metadata": {},
     "output_type": "display_data"
    },
    {
     "data": {
      "application/vnd.jupyter.widget-view+json": {
       "model_id": "",
       "version_major": 2,
       "version_minor": 0
      },
      "text/plain": [
       "Validation: 0it [00:00, ?it/s]"
      ]
     },
     "metadata": {},
     "output_type": "display_data"
    },
    {
     "data": {
      "application/vnd.jupyter.widget-view+json": {
       "model_id": "",
       "version_major": 2,
       "version_minor": 0
      },
      "text/plain": [
       "Validation: 0it [00:00, ?it/s]"
      ]
     },
     "metadata": {},
     "output_type": "display_data"
    },
    {
     "data": {
      "application/vnd.jupyter.widget-view+json": {
       "model_id": "",
       "version_major": 2,
       "version_minor": 0
      },
      "text/plain": [
       "Validation: 0it [00:00, ?it/s]"
      ]
     },
     "metadata": {},
     "output_type": "display_data"
    },
    {
     "data": {
      "application/vnd.jupyter.widget-view+json": {
       "model_id": "",
       "version_major": 2,
       "version_minor": 0
      },
      "text/plain": [
       "Validation: 0it [00:00, ?it/s]"
      ]
     },
     "metadata": {},
     "output_type": "display_data"
    },
    {
     "data": {
      "application/vnd.jupyter.widget-view+json": {
       "model_id": "",
       "version_major": 2,
       "version_minor": 0
      },
      "text/plain": [
       "Validation: 0it [00:00, ?it/s]"
      ]
     },
     "metadata": {},
     "output_type": "display_data"
    },
    {
     "data": {
      "application/vnd.jupyter.widget-view+json": {
       "model_id": "",
       "version_major": 2,
       "version_minor": 0
      },
      "text/plain": [
       "Validation: 0it [00:00, ?it/s]"
      ]
     },
     "metadata": {},
     "output_type": "display_data"
    },
    {
     "data": {
      "application/vnd.jupyter.widget-view+json": {
       "model_id": "",
       "version_major": 2,
       "version_minor": 0
      },
      "text/plain": [
       "Validation: 0it [00:00, ?it/s]"
      ]
     },
     "metadata": {},
     "output_type": "display_data"
    },
    {
     "data": {
      "application/vnd.jupyter.widget-view+json": {
       "model_id": "",
       "version_major": 2,
       "version_minor": 0
      },
      "text/plain": [
       "Validation: 0it [00:00, ?it/s]"
      ]
     },
     "metadata": {},
     "output_type": "display_data"
    },
    {
     "data": {
      "application/vnd.jupyter.widget-view+json": {
       "model_id": "",
       "version_major": 2,
       "version_minor": 0
      },
      "text/plain": [
       "Validation: 0it [00:00, ?it/s]"
      ]
     },
     "metadata": {},
     "output_type": "display_data"
    },
    {
     "data": {
      "application/vnd.jupyter.widget-view+json": {
       "model_id": "",
       "version_major": 2,
       "version_minor": 0
      },
      "text/plain": [
       "Validation: 0it [00:00, ?it/s]"
      ]
     },
     "metadata": {},
     "output_type": "display_data"
    },
    {
     "data": {
      "application/vnd.jupyter.widget-view+json": {
       "model_id": "",
       "version_major": 2,
       "version_minor": 0
      },
      "text/plain": [
       "Validation: 0it [00:00, ?it/s]"
      ]
     },
     "metadata": {},
     "output_type": "display_data"
    },
    {
     "data": {
      "application/vnd.jupyter.widget-view+json": {
       "model_id": "",
       "version_major": 2,
       "version_minor": 0
      },
      "text/plain": [
       "Validation: 0it [00:00, ?it/s]"
      ]
     },
     "metadata": {},
     "output_type": "display_data"
    },
    {
     "data": {
      "application/vnd.jupyter.widget-view+json": {
       "model_id": "",
       "version_major": 2,
       "version_minor": 0
      },
      "text/plain": [
       "Validation: 0it [00:00, ?it/s]"
      ]
     },
     "metadata": {},
     "output_type": "display_data"
    },
    {
     "name": "stderr",
     "output_type": "stream",
     "text": [
      "/home/vladislav/anaconda3/envs/light/lib/python3.10/site-packages/pytorch_lightning/trainer/call.py:48: UserWarning: Detected KeyboardInterrupt, attempting graceful shutdown...\n",
      "  rank_zero_warn(\"Detected KeyboardInterrupt, attempting graceful shutdown...\")\n",
      "LOCAL_RANK: 0 - CUDA_VISIBLE_DEVICES: [0]\n"
     ]
    },
    {
     "data": {
      "application/vnd.jupyter.widget-view+json": {
       "model_id": "179b7b04ce1a4fd494be1fc3e8d6bc11",
       "version_major": 2,
       "version_minor": 0
      },
      "text/plain": [
       "Testing: 0it [00:00, ?it/s]"
      ]
     },
     "metadata": {},
     "output_type": "display_data"
    },
    {
     "data": {
      "text/html": [
       "Waiting for W&B process to finish... <strong style=\"color:green\">(success).</strong>"
      ],
      "text/plain": [
       "<IPython.core.display.HTML object>"
      ]
     },
     "metadata": {},
     "output_type": "display_data"
    },
    {
     "name": "stderr",
     "output_type": "stream",
     "text": [
      "\u001b[34m\u001b[1mwandb\u001b[0m: \u001b[32m\u001b[41mERROR\u001b[0m Control-C detected -- Run data was not synced\n"
     ]
    }
   ],
   "source": [
    "trainer = Trainer(\n",
    "    max_epochs=config.n_epochs,\n",
    "    accelerator=\"auto\",\n",
    "    devices=1,\n",
    "    logger=[CSVLogger(save_dir=\"logs/\"), WandbLogger()],\n",
    "    callbacks=[\n",
    "        LearningRateMonitor(logging_interval=\"step\"),\n",
    "        TQDMProgressBar(refresh_rate=1),\n",
    "        ModelCheckpoint(dirpath='checkpoints/' + wandb.run.name, save_top_k=1,\n",
    "                        filename='best', monitor=\"val_loss\")\n",
    "    ],\n",
    "    # profiler=\"simple\",\n",
    ")\n",
    "\n",
    "trainer.fit(model, \n",
    "            train_dataloaders=trainloader,\n",
    "            val_dataloaders=valloader)\n",
    "\n",
    "trainer.test(model, dataloaders=testloader)\n",
    "wandb.finish()"
   ]
  },
  {
   "cell_type": "code",
   "execution_count": null,
   "id": "88310373-5101-4557-8fcd-563810ff060d",
   "metadata": {},
   "outputs": [],
   "source": []
  }
 ],
 "metadata": {
  "colab": {
   "provenance": []
  },
  "jupytext": {
   "cell_metadata_filter": "colab_type,colab,id,-all",
   "formats": "ipynb,py:percent",
   "main_language": "python"
  },
  "kernelspec": {
   "display_name": "light",
   "language": "python",
   "name": "light"
  },
  "language_info": {
   "codemirror_mode": {
    "name": "ipython",
    "version": 3
   },
   "file_extension": ".py",
   "mimetype": "text/x-python",
   "name": "python",
   "nbconvert_exporter": "python",
   "pygments_lexer": "ipython3",
   "version": "3.10.9"
  },
  "papermill": {
   "default_parameters": {},
   "duration": 16715.805757,
   "end_time": "2022-04-28T12:54:54.351239",
   "environment_variables": {},
   "exception": null,
   "input_path": "lightning_examples/cifar10-baseline/baseline.ipynb",
   "output_path": ".notebooks/lightning_examples/cifar10-baseline.ipynb",
   "parameters": {},
   "start_time": "2022-04-28T08:16:18.545482",
   "version": "2.3.4"
  },
  "widgets": {
   "application/vnd.jupyter.widget-state+json": {}
  }
 },
 "nbformat": 4,
 "nbformat_minor": 5
}
